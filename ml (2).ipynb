{
 "cells": [
  {
   "cell_type": "markdown",
   "id": "f54dfe9d",
   "metadata": {},
   "source": [
    "## Import Libraries and Dependencies"
   ]
  },
  {
   "cell_type": "code",
   "execution_count": 1,
   "id": "d64e8703",
   "metadata": {},
   "outputs": [],
   "source": [
    "import numpy as np\n",
    "import pandas as pd \n",
    "import matplotlib.pyplot as plt\n",
    "import seaborn as sns \n",
    "%matplotlib inline"
   ]
  },
  {
   "cell_type": "markdown",
   "id": "f5305900",
   "metadata": {},
   "source": [
    "## Read Data"
   ]
  },
  {
   "cell_type": "code",
   "execution_count": 2,
   "id": "c9717ddf",
   "metadata": {
    "scrolled": true
   },
   "outputs": [
    {
     "data": {
      "text/html": [
       "<div>\n",
       "<style scoped>\n",
       "    .dataframe tbody tr th:only-of-type {\n",
       "        vertical-align: middle;\n",
       "    }\n",
       "\n",
       "    .dataframe tbody tr th {\n",
       "        vertical-align: top;\n",
       "    }\n",
       "\n",
       "    .dataframe thead th {\n",
       "        text-align: right;\n",
       "    }\n",
       "</style>\n",
       "<table border=\"1\" class=\"dataframe\">\n",
       "  <thead>\n",
       "    <tr style=\"text-align: right;\">\n",
       "      <th></th>\n",
       "      <th>id</th>\n",
       "      <th>ph</th>\n",
       "      <th>temperature</th>\n",
       "      <th>adsorbent_dose</th>\n",
       "      <th>contact_time</th>\n",
       "      <th>eff</th>\n",
       "    </tr>\n",
       "  </thead>\n",
       "  <tbody>\n",
       "    <tr>\n",
       "      <th>0</th>\n",
       "      <td>1</td>\n",
       "      <td>9</td>\n",
       "      <td>328</td>\n",
       "      <td>40</td>\n",
       "      <td>50</td>\n",
       "      <td>98.92</td>\n",
       "    </tr>\n",
       "    <tr>\n",
       "      <th>1</th>\n",
       "      <td>2</td>\n",
       "      <td>7</td>\n",
       "      <td>318</td>\n",
       "      <td>30</td>\n",
       "      <td>20</td>\n",
       "      <td>98.72</td>\n",
       "    </tr>\n",
       "    <tr>\n",
       "      <th>2</th>\n",
       "      <td>3</td>\n",
       "      <td>7</td>\n",
       "      <td>318</td>\n",
       "      <td>50</td>\n",
       "      <td>40</td>\n",
       "      <td>99.78</td>\n",
       "    </tr>\n",
       "    <tr>\n",
       "      <th>3</th>\n",
       "      <td>4</td>\n",
       "      <td>5</td>\n",
       "      <td>308</td>\n",
       "      <td>20</td>\n",
       "      <td>30</td>\n",
       "      <td>80.74</td>\n",
       "    </tr>\n",
       "    <tr>\n",
       "      <th>4</th>\n",
       "      <td>5</td>\n",
       "      <td>7</td>\n",
       "      <td>318</td>\n",
       "      <td>30</td>\n",
       "      <td>40</td>\n",
       "      <td>99.11</td>\n",
       "    </tr>\n",
       "  </tbody>\n",
       "</table>\n",
       "</div>"
      ],
      "text/plain": [
       "   id  ph  temperature  adsorbent_dose  contact_time    eff\n",
       "0   1   9          328              40            50  98.92\n",
       "1   2   7          318              30            20  98.72\n",
       "2   3   7          318              50            40  99.78\n",
       "3   4   5          308              20            30  80.74\n",
       "4   5   7          318              30            40  99.11"
      ]
     },
     "execution_count": 2,
     "metadata": {},
     "output_type": "execute_result"
    }
   ],
   "source": [
    "data = pd.read_csv(\"data_file.csv\")\n",
    "data.head()  "
   ]
  },
  {
   "cell_type": "code",
   "execution_count": 3,
   "id": "6bdcde59",
   "metadata": {},
   "outputs": [
    {
     "data": {
      "text/html": [
       "<div>\n",
       "<style scoped>\n",
       "    .dataframe tbody tr th:only-of-type {\n",
       "        vertical-align: middle;\n",
       "    }\n",
       "\n",
       "    .dataframe tbody tr th {\n",
       "        vertical-align: top;\n",
       "    }\n",
       "\n",
       "    .dataframe thead th {\n",
       "        text-align: right;\n",
       "    }\n",
       "</style>\n",
       "<table border=\"1\" class=\"dataframe\">\n",
       "  <thead>\n",
       "    <tr style=\"text-align: right;\">\n",
       "      <th></th>\n",
       "      <th>ph</th>\n",
       "      <th>temperature</th>\n",
       "      <th>adsorbent_dose</th>\n",
       "      <th>contact_time</th>\n",
       "      <th>eff</th>\n",
       "    </tr>\n",
       "  </thead>\n",
       "  <tbody>\n",
       "    <tr>\n",
       "      <th>0</th>\n",
       "      <td>9</td>\n",
       "      <td>328</td>\n",
       "      <td>40</td>\n",
       "      <td>50</td>\n",
       "      <td>98.92</td>\n",
       "    </tr>\n",
       "    <tr>\n",
       "      <th>1</th>\n",
       "      <td>7</td>\n",
       "      <td>318</td>\n",
       "      <td>30</td>\n",
       "      <td>20</td>\n",
       "      <td>98.72</td>\n",
       "    </tr>\n",
       "    <tr>\n",
       "      <th>2</th>\n",
       "      <td>7</td>\n",
       "      <td>318</td>\n",
       "      <td>50</td>\n",
       "      <td>40</td>\n",
       "      <td>99.78</td>\n",
       "    </tr>\n",
       "    <tr>\n",
       "      <th>3</th>\n",
       "      <td>5</td>\n",
       "      <td>308</td>\n",
       "      <td>20</td>\n",
       "      <td>30</td>\n",
       "      <td>80.74</td>\n",
       "    </tr>\n",
       "    <tr>\n",
       "      <th>4</th>\n",
       "      <td>7</td>\n",
       "      <td>318</td>\n",
       "      <td>30</td>\n",
       "      <td>40</td>\n",
       "      <td>99.11</td>\n",
       "    </tr>\n",
       "  </tbody>\n",
       "</table>\n",
       "</div>"
      ],
      "text/plain": [
       "   ph  temperature  adsorbent_dose  contact_time    eff\n",
       "0   9          328              40            50  98.92\n",
       "1   7          318              30            20  98.72\n",
       "2   7          318              50            40  99.78\n",
       "3   5          308              20            30  80.74\n",
       "4   7          318              30            40  99.11"
      ]
     },
     "execution_count": 3,
     "metadata": {},
     "output_type": "execute_result"
    }
   ],
   "source": [
    "# drop column `id` \n",
    "data.drop(['id'], axis=1, inplace=True)\n",
    "data.head()"
   ]
  },
  {
   "cell_type": "code",
   "execution_count": 4,
   "id": "bbaa95fc",
   "metadata": {
    "scrolled": false
   },
   "outputs": [
    {
     "data": {
      "text/html": [
       "<div>\n",
       "<style scoped>\n",
       "    .dataframe tbody tr th:only-of-type {\n",
       "        vertical-align: middle;\n",
       "    }\n",
       "\n",
       "    .dataframe tbody tr th {\n",
       "        vertical-align: top;\n",
       "    }\n",
       "\n",
       "    .dataframe thead th {\n",
       "        text-align: right;\n",
       "    }\n",
       "</style>\n",
       "<table border=\"1\" class=\"dataframe\">\n",
       "  <thead>\n",
       "    <tr style=\"text-align: right;\">\n",
       "      <th></th>\n",
       "      <th>ph</th>\n",
       "      <th>temperature</th>\n",
       "      <th>adsorbent_dose</th>\n",
       "      <th>contact_time</th>\n",
       "      <th>eff</th>\n",
       "    </tr>\n",
       "  </thead>\n",
       "  <tbody>\n",
       "    <tr>\n",
       "      <th>count</th>\n",
       "      <td>26.000000</td>\n",
       "      <td>26.000000</td>\n",
       "      <td>26.000000</td>\n",
       "      <td>26.000000</td>\n",
       "      <td>26.000000</td>\n",
       "    </tr>\n",
       "    <tr>\n",
       "      <th>mean</th>\n",
       "      <td>7.000000</td>\n",
       "      <td>318.769231</td>\n",
       "      <td>30.769231</td>\n",
       "      <td>39.615385</td>\n",
       "      <td>93.431538</td>\n",
       "    </tr>\n",
       "    <tr>\n",
       "      <th>std</th>\n",
       "      <td>1.876166</td>\n",
       "      <td>9.347974</td>\n",
       "      <td>9.347974</td>\n",
       "      <td>9.583640</td>\n",
       "      <td>7.801638</td>\n",
       "    </tr>\n",
       "    <tr>\n",
       "      <th>min</th>\n",
       "      <td>3.000000</td>\n",
       "      <td>298.000000</td>\n",
       "      <td>10.000000</td>\n",
       "      <td>20.000000</td>\n",
       "      <td>71.080000</td>\n",
       "    </tr>\n",
       "    <tr>\n",
       "      <th>25%</th>\n",
       "      <td>5.000000</td>\n",
       "      <td>310.500000</td>\n",
       "      <td>22.500000</td>\n",
       "      <td>30.000000</td>\n",
       "      <td>92.707500</td>\n",
       "    </tr>\n",
       "    <tr>\n",
       "      <th>50%</th>\n",
       "      <td>7.000000</td>\n",
       "      <td>318.000000</td>\n",
       "      <td>30.000000</td>\n",
       "      <td>40.000000</td>\n",
       "      <td>97.065000</td>\n",
       "    </tr>\n",
       "    <tr>\n",
       "      <th>75%</th>\n",
       "      <td>9.000000</td>\n",
       "      <td>328.000000</td>\n",
       "      <td>40.000000</td>\n",
       "      <td>50.000000</td>\n",
       "      <td>98.582500</td>\n",
       "    </tr>\n",
       "    <tr>\n",
       "      <th>max</th>\n",
       "      <td>11.000000</td>\n",
       "      <td>338.000000</td>\n",
       "      <td>50.000000</td>\n",
       "      <td>60.000000</td>\n",
       "      <td>99.880000</td>\n",
       "    </tr>\n",
       "  </tbody>\n",
       "</table>\n",
       "</div>"
      ],
      "text/plain": [
       "              ph  temperature  adsorbent_dose  contact_time        eff\n",
       "count  26.000000    26.000000       26.000000     26.000000  26.000000\n",
       "mean    7.000000   318.769231       30.769231     39.615385  93.431538\n",
       "std     1.876166     9.347974        9.347974      9.583640   7.801638\n",
       "min     3.000000   298.000000       10.000000     20.000000  71.080000\n",
       "25%     5.000000   310.500000       22.500000     30.000000  92.707500\n",
       "50%     7.000000   318.000000       30.000000     40.000000  97.065000\n",
       "75%     9.000000   328.000000       40.000000     50.000000  98.582500\n",
       "max    11.000000   338.000000       50.000000     60.000000  99.880000"
      ]
     },
     "execution_count": 4,
     "metadata": {},
     "output_type": "execute_result"
    }
   ],
   "source": [
    "# exploratory data analysis\n",
    "data.describe()"
   ]
  },
  {
   "cell_type": "markdown",
   "id": "64930c29",
   "metadata": {},
   "source": [
    "## Data Visualization"
   ]
  },
  {
   "cell_type": "markdown",
   "id": "c1bdc86d",
   "metadata": {},
   "source": [
    "Below is a scatter plot of Adsorbent Efficiency Vs each column in dataset"
   ]
  },
  {
   "cell_type": "code",
   "execution_count": 5,
   "id": "ac17f0d6",
   "metadata": {},
   "outputs": [
    {
     "data": {
      "image/png": "[encoded data removed]",
      "text/plain": [
       "<Figure size 640x480 with 1 Axes>"
      ]
     },
     "metadata": {},
     "output_type": "display_data"
    },
    {
     "data": {
      "image/png": "[encoded data removed]",
      "text/plain": [
       "<Figure size 640x480 with 1 Axes>"
      ]
     },
     "metadata": {},
     "output_type": "display_data"
    },
    {
     "data": {
      "image/png": "[encoded data removed]",
      "text/plain": [
       "<Figure size 640x480 with 1 Axes>"
      ]
     },
     "metadata": {},
     "output_type": "display_data"
    },
    {
     "data": {
      "image/png": "[encoded data removed]",
      "text/plain": [
       "<Figure size 640x480 with 1 Axes>"
      ]
     },
     "metadata": {},
     "output_type": "display_data"
    },
    {
     "data": {
      "image/png": "[encoded data removed]",
      "text/plain": [
       "<Figure size 640x480 with 1 Axes>"
      ]
     },
     "metadata": {},
     "output_type": "display_data"
    }
   ],
   "source": [
    "def plot_graph():\n",
    "    for i in data.columns:\n",
    "        plt.scatter(data[i], data['eff'])\n",
    "        plt.grid()\n",
    "        plt.xlabel(f\"{i}\")\n",
    "        plt.ylabel(\"Adsorbent Efficiency\")\n",
    "        plt.title(f\"Plot of Adsorbent Efficiency Vs {i} \")\n",
    "        plt.show()\n",
    "plot_graph()"
   ]
  },
  {
   "cell_type": "markdown",
   "id": "f94b7e35",
   "metadata": {},
   "source": [
    "## Splitting Data"
   ]
  },
  {
   "cell_type": "code",
   "execution_count": 6,
   "id": "22179879",
   "metadata": {},
   "outputs": [],
   "source": [
    "from sklearn.model_selection import train_test_split\n",
    "# splitting dataset\n",
    "X_data = data.drop(['eff'], axis=1) # all columns except `eff`\n",
    "y_data = data['eff'] # 'eff' only\n",
    "\n",
    "X_train, X_test, y_train, y_test = train_test_split(X_data, y_data, test_size=0.1, random_state=42)"
   ]
  },
  {
   "cell_type": "markdown",
   "id": "6db9f79c",
   "metadata": {},
   "source": [
    "## Model Training and Evaluation"
   ]
  },
  {
   "cell_type": "code",
   "execution_count": 7,
   "id": "f5567b5b",
   "metadata": {},
   "outputs": [],
   "source": [
    "## model evaluation\n",
    "def evaluate_model(y_true, y_pred, label=\"Test\"):\n",
    "    rmse = mean_squared_error(y_true, y_pred, squared=False) # Root Mean Squared\n",
    "    variance = r2_score(y_true, y_pred)    # R2 score \n",
    "    return f'{label} set RMSE:{rmse}, R2:{variance}'"
   ]
  },
  {
   "cell_type": "markdown",
   "id": "c34045f2",
   "metadata": {},
   "source": [
    "Using plain Linear Regression as a baseline model without standardization or normalization"
   ]
  },
  {
   "cell_type": "markdown",
   "id": "30274266",
   "metadata": {},
   "source": [
    "### Linear Regression"
   ]
  },
  {
   "cell_type": "code",
   "execution_count": 8,
   "id": "182c1dad",
   "metadata": {},
   "outputs": [],
   "source": [
    "from sklearn.linear_model import LinearRegression\n",
    "from sklearn.metrics import mean_squared_error,r2_score"
   ]
  },
  {
   "cell_type": "code",
   "execution_count": 9,
   "id": "39989dff",
   "metadata": {},
   "outputs": [],
   "source": [
    "# define and create model\n",
    "lin_reg = LinearRegression()\n",
    "lin_reg.fit(X_train, y_train) # model training\n",
    "\n",
    "# model prediction\n",
    "y_train = lin_reg.predict(X_train) \n",
    "y_pred = lin_reg.predict(X_test)"
   ]
  },
  {
   "cell_type": "code",
   "execution_count": 10,
   "id": "5ee977aa",
   "metadata": {},
   "outputs": [
    {
     "data": {
      "text/html": [
       "<div>\n",
       "<style scoped>\n",
       "    .dataframe tbody tr th:only-of-type {\n",
       "        vertical-align: middle;\n",
       "    }\n",
       "\n",
       "    .dataframe tbody tr th {\n",
       "        vertical-align: top;\n",
       "    }\n",
       "\n",
       "    .dataframe thead th {\n",
       "        text-align: right;\n",
       "    }\n",
       "</style>\n",
       "<table border=\"1\" class=\"dataframe\">\n",
       "  <thead>\n",
       "    <tr style=\"text-align: right;\">\n",
       "      <th></th>\n",
       "      <th>0</th>\n",
       "      <th>1</th>\n",
       "      <th>2</th>\n",
       "    </tr>\n",
       "  </thead>\n",
       "  <tbody>\n",
       "    <tr>\n",
       "      <th>Predictions</th>\n",
       "      <td>97.583288</td>\n",
       "      <td>93.261835</td>\n",
       "      <td>100.49237</td>\n",
       "    </tr>\n",
       "    <tr>\n",
       "      <th>True</th>\n",
       "      <td>97.520000</td>\n",
       "      <td>97.150000</td>\n",
       "      <td>98.92000</td>\n",
       "    </tr>\n",
       "  </tbody>\n",
       "</table>\n",
       "</div>"
      ],
      "text/plain": [
       "                     0          1          2\n",
       "Predictions  97.583288  93.261835  100.49237\n",
       "True         97.520000  97.150000   98.92000"
      ]
     },
     "execution_count": 10,
     "metadata": {},
     "output_type": "execute_result"
    }
   ],
   "source": [
    "# visualization of results\n",
    "pd.DataFrame([y_pred, y_test], index=['Predictions', 'True'])"
   ]
  },
  {
   "cell_type": "code",
   "execution_count": 11,
   "id": "70498088",
   "metadata": {
    "scrolled": true
   },
   "outputs": [
    {
     "name": "stdout",
     "output_type": "stream",
     "text": [
      "Train set RMSE:0.0, R2:1.0\n",
      "Test set RMSE:2.4217195269372667, R2:-9.09264775026643\n"
     ]
    }
   ],
   "source": [
    "# evaluation\n",
    "print(evaluate_model(y_train, y_train, \"Train\"))\n",
    "print(evaluate_model(y_test, y_pred, \"Test\"))"
   ]
  },
  {
   "cell_type": "markdown",
   "id": "e6e542c0",
   "metadata": {},
   "source": [
    "### Polynomial Regression without standardization"
   ]
  },
  {
   "cell_type": "code",
   "execution_count": 12,
   "id": "d4190e2f",
   "metadata": {},
   "outputs": [],
   "source": [
    "from sklearn.preprocessing import PolynomialFeatures\n",
    "# define and create a polynomial features \n",
    "poly_feat = PolynomialFeatures(degree=3, include_bias=False)\n",
    "X_train_poly = poly_feat.fit_transform(X_train) # instance transformation \n",
    "X_test_poly = poly_feat.transform(X_test)"
   ]
  },
  {
   "cell_type": "code",
   "execution_count": 13,
   "id": "bef9cc13",
   "metadata": {},
   "outputs": [],
   "source": [
    "# define and create polynomial regression model\n",
    "lin_reg = LinearRegression()\n",
    "lin_reg.fit(X_train_poly, y_train) # model training\n",
    "\n",
    "# model prediction\n",
    "y_train = lin_reg.predict(X_train_poly)\n",
    "y_pred = lin_reg.predict(X_test_poly)"
   ]
  },
  {
   "cell_type": "code",
   "execution_count": 14,
   "id": "5979a9be",
   "metadata": {},
   "outputs": [
    {
     "data": {
      "text/html": [
       "<div>\n",
       "<style scoped>\n",
       "    .dataframe tbody tr th:only-of-type {\n",
       "        vertical-align: middle;\n",
       "    }\n",
       "\n",
       "    .dataframe tbody tr th {\n",
       "        vertical-align: top;\n",
       "    }\n",
       "\n",
       "    .dataframe thead th {\n",
       "        text-align: right;\n",
       "    }\n",
       "</style>\n",
       "<table border=\"1\" class=\"dataframe\">\n",
       "  <thead>\n",
       "    <tr style=\"text-align: right;\">\n",
       "      <th></th>\n",
       "      <th>0</th>\n",
       "      <th>1</th>\n",
       "      <th>2</th>\n",
       "    </tr>\n",
       "  </thead>\n",
       "  <tbody>\n",
       "    <tr>\n",
       "      <th>Predictions</th>\n",
       "      <td>96.512539</td>\n",
       "      <td>93.261835</td>\n",
       "      <td>101.563119</td>\n",
       "    </tr>\n",
       "    <tr>\n",
       "      <th>True</th>\n",
       "      <td>97.520000</td>\n",
       "      <td>97.150000</td>\n",
       "      <td>98.920000</td>\n",
       "    </tr>\n",
       "  </tbody>\n",
       "</table>\n",
       "</div>"
      ],
      "text/plain": [
       "                     0          1           2\n",
       "Predictions  96.512539  93.261835  101.563119\n",
       "True         97.520000  97.150000   98.920000"
      ]
     },
     "execution_count": 14,
     "metadata": {},
     "output_type": "execute_result"
    }
   ],
   "source": [
    "# visualization of results\n",
    "pd.DataFrame([y_pred, y_test], index=['Predictions', 'True'])"
   ]
  },
  {
   "cell_type": "code",
   "execution_count": 15,
   "id": "af409420",
   "metadata": {
    "scrolled": true
   },
   "outputs": [
    {
     "name": "stdout",
     "output_type": "stream",
     "text": [
      "Train set RMSE:0.0, R2:1.0\n",
      "Test set RMSE:2.776021003960044, R2:-12.261813746194125\n"
     ]
    }
   ],
   "source": [
    "# model evaluation\n",
    "print(evaluate_model(y_train, y_train, \"Train\"))\n",
    "print(evaluate_model(y_test, y_pred, \"Test\"))"
   ]
  },
  {
   "cell_type": "markdown",
   "id": "4ef7b85c",
   "metadata": {},
   "source": [
    "## Polynomial Regression with Standardization"
   ]
  },
  {
   "cell_type": "code",
   "execution_count": 16,
   "id": "beff306f",
   "metadata": {},
   "outputs": [],
   "source": [
    "from sklearn.preprocessing import StandardScaler\n",
    "# define and create standard scaler\n",
    "scaler = StandardScaler()\n",
    "X_train_poly_scaled = scaler.fit_transform(X_train_poly) # instance transformation\n",
    "X_test_poly_scaled = scaler.transform(X_test_poly)"
   ]
  },
  {
   "cell_type": "code",
   "execution_count": 17,
   "id": "33f5dd84",
   "metadata": {},
   "outputs": [],
   "source": [
    "# define and create polynomial regression model\n",
    "lin_reg = LinearRegression()\n",
    "lin_reg.fit(X_train_poly_scaled , y_train) # model training\n",
    "\n",
    "# model predictions\n",
    "y_train = lin_reg.predict(X_train_poly_scaled )\n",
    "y_pred = lin_reg.predict(X_test_poly_scaled )"
   ]
  },
  {
   "cell_type": "code",
   "execution_count": 18,
   "id": "212cb69a",
   "metadata": {
    "scrolled": false
   },
   "outputs": [
    {
     "data": {
      "text/html": [
       "<div>\n",
       "<style scoped>\n",
       "    .dataframe tbody tr th:only-of-type {\n",
       "        vertical-align: middle;\n",
       "    }\n",
       "\n",
       "    .dataframe tbody tr th {\n",
       "        vertical-align: top;\n",
       "    }\n",
       "\n",
       "    .dataframe thead th {\n",
       "        text-align: right;\n",
       "    }\n",
       "</style>\n",
       "<table border=\"1\" class=\"dataframe\">\n",
       "  <thead>\n",
       "    <tr style=\"text-align: right;\">\n",
       "      <th></th>\n",
       "      <th>0</th>\n",
       "      <th>1</th>\n",
       "      <th>2</th>\n",
       "    </tr>\n",
       "  </thead>\n",
       "  <tbody>\n",
       "    <tr>\n",
       "      <th>Predictions</th>\n",
       "      <td>97.599598</td>\n",
       "      <td>93.261835</td>\n",
       "      <td>100.476059</td>\n",
       "    </tr>\n",
       "    <tr>\n",
       "      <th>True</th>\n",
       "      <td>97.520000</td>\n",
       "      <td>97.150000</td>\n",
       "      <td>98.920000</td>\n",
       "    </tr>\n",
       "  </tbody>\n",
       "</table>\n",
       "</div>"
      ],
      "text/plain": [
       "                     0          1           2\n",
       "Predictions  97.599598  93.261835  100.476059\n",
       "True         97.520000  97.150000   98.920000"
      ]
     },
     "execution_count": 18,
     "metadata": {},
     "output_type": "execute_result"
    }
   ],
   "source": [
    "# visualization of results \n",
    "pd.DataFrame([y_pred, y_test], index=['Predictions', 'True'])"
   ]
  },
  {
   "cell_type": "code",
   "execution_count": 19,
   "id": "d1c9f274",
   "metadata": {},
   "outputs": [
    {
     "name": "stdout",
     "output_type": "stream",
     "text": [
      "Train set RMSE:0.0, R2:1.0\n",
      "Test set RMSE:2.418365868984973, R2:-9.064714001767381\n"
     ]
    }
   ],
   "source": [
    "# model evaluation\n",
    "print(evaluate_model(y_train, y_train, \"Train\"))\n",
    "print(evaluate_model(y_test, y_pred, \"Test\"))"
   ]
  }
 ],
 "metadata": {
  "kernelspec": {
   "display_name": "Python 3 (ipykernel)",
   "language": "python",
   "name": "python3"
  },
  "language_info": {
   "codemirror_mode": {
    "name": "ipython",
    "version": 3
   },
   "file_extension": ".py",
   "mimetype": "text/x-python",
   "name": "python",
   "nbconvert_exporter": "python",
   "pygments_lexer": "ipython3",
   "version": "3.9.12"
  }
 },
 "nbformat": 4,
 "nbformat_minor": 5
}
